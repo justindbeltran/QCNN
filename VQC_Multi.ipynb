{
 "cells": [
  {
   "cell_type": "code",
   "execution_count": 2,
   "id": "4f0a271d-f1ee-43b1-97f0-f205ec10d0f8",
   "metadata": {},
   "outputs": [],
   "source": [
    "from qiskit import QuantumCircuit\n",
    "from qiskit.circuit import Parameter, ParameterVector\n",
    "from qiskit.circuit.library import EfficientSU2, ZZFeatureMap\n",
    "\n",
    "from qiskit_machine_learning.algorithms.classifiers import VQC\n",
    "from qiskit_algorithms.optimizers import COBYLA\n",
    "\n",
    "from sklearn.model_selection import train_test_split\n",
    "import numpy as np"
   ]
  },
  {
   "cell_type": "code",
   "execution_count": 3,
   "id": "9b7f17de-d99f-4cd5-9d58-9aa397dd72c6",
   "metadata": {},
   "outputs": [],
   "source": [
    "# Modified settings for VQC to get better performance seen in Homework 10\n",
    "def const_vqc(num_qubits:int):\n",
    "    feature_map = ZZFeatureMap(num_qubits, reps=2)\n",
    "    ansatz = EfficientSU2(num_qubits=num_qubits, reps=2, entanglement=\"full\")\n",
    "    return VQC(feature_map=feature_map, ansatz=ansatz, optimizer=COBYLA(maxiter=1000))\n",
    "                               \n",
    "classifier = const_vqc(8)"
   ]
  },
  {
   "cell_type": "code",
   "execution_count": 4,
   "id": "b1336613-b5b6-464b-a405-a5defe4a2613",
   "metadata": {},
   "outputs": [],
   "source": [
    "# Loading data\n",
    "data = np.genfromtxt(\"seeds_dataset.txt\", dtype=str)\n",
    "\n",
    "# Splitting the data to features and labels\n",
    "features = data[:, :-1].astype(float)  \n",
    "labels = data[:, -1]\n",
    "\n",
    "features = np.hstack((features, np.zeros((features.shape[0], 1))))\n",
    "features_list = [np.array(row) for row in features]\n",
    "\n",
    "# Split data into test and training sets\n",
    "trainer, tester, trainer_ans, tester_ans = train_test_split(features_list, labels, test_size=0.25, random_state=246)\n",
    "\n",
    "x = np.asarray(trainer)\n",
    "y = np.asarray(trainer_ans)\n",
    "\n",
    "# Start training 16:23 to 17:02"
   ]
  },
  {
   "cell_type": "code",
   "execution_count": 5,
   "id": "f2f99c18-ab68-48a3-a3e0-671c20e78876",
   "metadata": {},
   "outputs": [
    {
     "data": {
      "text/plain": [
       "'\\nclassifier = NeuralNetworkClassifier.load(\"seed_classifier_8m1000.model\")\\n'"
      ]
     },
     "execution_count": 5,
     "metadata": {},
     "output_type": "execute_result"
    }
   ],
   "source": [
    "########### UNCOMMENT ONLY THE OPTION YOU ARE TRYING TO DO! ###########\n",
    "\n",
    "# Uncomment this section to create and save a new model\n",
    "\n",
    "classifier.fit(x, y)\n",
    "classifier.save(\"seed_classifier_vqc.model\")\n",
    "\n",
    " \n",
    "# Uncomment this section to load or warm start a model\n",
    "'''\n",
    "classifier = NeuralNetworkClassifier.load(\"seed_classifier_8m1000.model\")\n",
    "'''"
   ]
  },
  {
   "cell_type": "code",
   "execution_count": 6,
   "id": "2d1c2e52-58ae-4434-8eee-5cf1da1ce4b8",
   "metadata": {},
   "outputs": [
    {
     "name": "stdout",
     "output_type": "stream",
     "text": [
      "Accuracy from the test data : 30.19%\n"
     ]
    }
   ],
   "source": [
    "y_predict = classifier.predict(tester)\n",
    "x = np.asarray(tester)\n",
    "y = np.asarray(tester_ans)\n",
    "\n",
    "print(f\"Accuracy from the test data : {np.round(100 * classifier.score(x, y), 2)}%\")"
   ]
  },
  {
   "cell_type": "code",
   "execution_count": null,
   "id": "f0f4a0fe-d269-4375-a88e-6fba188ceb1a",
   "metadata": {},
   "outputs": [],
   "source": []
  }
 ],
 "metadata": {
  "kernelspec": {
   "display_name": "Python 3 (ipykernel)",
   "language": "python",
   "name": "python3"
  },
  "language_info": {
   "codemirror_mode": {
    "name": "ipython",
    "version": 3
   },
   "file_extension": ".py",
   "mimetype": "text/x-python",
   "name": "python",
   "nbconvert_exporter": "python",
   "pygments_lexer": "ipython3",
   "version": "3.11.8"
  }
 },
 "nbformat": 4,
 "nbformat_minor": 5
}

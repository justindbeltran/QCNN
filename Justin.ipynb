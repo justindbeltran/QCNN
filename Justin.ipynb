{
 "cells": [
  {
   "cell_type": "code",
   "execution_count": 1,
   "id": "f467bd0b-a10b-48c0-964c-e34f9d45bd02",
   "metadata": {},
   "outputs": [],
   "source": [
    "from qiskit import QuantumCircuit, QuantumRegister, ClassicalRegister, transpile\n",
    "from qiskit.circuit import Parameter, ParameterVector\n",
    "from qiskit.circuit.library import ZFeatureMap, ZZFeatureMap\n",
    "from qiskit.visualization import plot_histogram, plot_distribution\n",
    "from qiskit.quantum_info import SparsePauliOp\n",
    "\n",
    "from qiskit_machine_learning.neural_networks import EstimatorQNN, SamplerQNN\n",
    "from qiskit_machine_learning.algorithms.classifiers import NeuralNetworkClassifier\n",
    "from qiskit_algorithms.optimizers import COBYLA\n",
    "from qiskit_algorithms.utils import algorithm_globals\n",
    "from qiskit.primitives import Sampler, Estimator\n",
    "\n",
    "from sklearn.model_selection import train_test_split\n",
    "import numpy as np\n",
    "import matplotlib.pyplot as plt"
   ]
  },
  {
   "cell_type": "code",
   "execution_count": 2,
   "id": "cfdaa4d0-05c5-4dca-940a-a95e667ef7bc",
   "metadata": {},
   "outputs": [],
   "source": [
    "# Method to construct the Convolutional Layer for the QCNN\n",
    "def conv_layer(qc:QuantumCircuit(), para:ParameterVector, iter:int) -> QuantumCircuit():\n",
    "    start = 0 if qc.num_qubits == 2 else -1\n",
    "    iter = 3 if iter == 0 else iter\n",
    "    for i in range(start, qc.num_qubits-1):\n",
    "        qc.rz(-np.pi / 2, i+1)\n",
    "        qc.cx(i+1, i)\n",
    "        qc.rz(para[(3*i)+iter], i)\n",
    "        qc.ry(para[(3*i)+1+iter], i+1)\n",
    "        qc.cx(i, i+1)\n",
    "        qc.ry(para[(3*i)+2+iter], i+1)\n",
    "        qc.cx(i+1, i)\n",
    "        qc.rz(np.pi / 2, i)\n",
    "        qc.barrier()\n",
    "    if iter == 3:\n",
    "        iter = 0\n",
    "    if qc.num_qubits == 2:\n",
    "        iter += 3\n",
    "    else: \n",
    "        iter += (3*(qc.num_qubits)) \n",
    "    return qc, iter\n",
    "\n",
    "# Method to construct the Pooling Layer for the QCNN\n",
    "def pool_layer(qc:QuantumCircuit(), para:ParameterVector, iter:int) -> QuantumCircuit():\n",
    "    half = int(qc.num_qubits/2)\n",
    "    for i in range(half):\n",
    "        qc.rz(-np.pi / 2, i+half)\n",
    "        qc.cx(i+half, i)\n",
    "        qc.rz(para[(3*i)+iter], i)\n",
    "        qc.ry(para[(3*i)+1+iter], i+half)\n",
    "        qc.cx(i, i+half)\n",
    "        qc.ry(para[(3*i)+2+iter], i+half)\n",
    "        qc.barrier()\n",
    "    iter += (half*3)\n",
    "    return qc, iter\n",
    "\n",
    "# Method that builds the entire circuit and layers systematically\n",
    "def qcnn_circuit(num_qubits:int, num_outputs:int) -> QuantumCircuit():\n",
    "    qc = QuantumCircuit(num_qubits)\n",
    "    num_outputs *= 2\n",
    "    num_layers = np.log2(num_qubits) # Calculates number of convolutional/pooling layers\n",
    "    \n",
    "    feature_map = ZFeatureMap(num_qubits)  # Pulls in Qiskit's built in ZFeatureMap\n",
    "    qc.compose(feature_map, range(num_qubits), inplace=True) # Adds ZFeatureMap to circuit for initialization\n",
    "    \n",
    "    parameter_vec = ParameterVector(name=\"θ\", length=int(9*(2**num_layers))-12) # Calculates number of parameters needed\n",
    "   \n",
    "    iter = 0 # Tracks where in the Parameter Vector to put the next parameter\n",
    "    index = num_qubits # Divides itself in half at each layer\n",
    "    layer = 1 # Tracks the current layer being constructed\n",
    "    while index > int(num_outputs): # Adds 1 convolution layer and 1 pooling layer then iterates until the desired amount of outputs remain\n",
    "        conv_qc = QuantumCircuit(index)\n",
    "        pool_qc = QuantumCircuit(index)\n",
    "        \n",
    "        # Adds 1 convolutional layer to the circuit by converting the convolutional circuit to a gate\n",
    "        conv_qc, iter = conv_layer(conv_qc, parameter_vec, iter)\n",
    "        qc.compose(conv_qc.to_instruction(label=f'Convolution Layer {layer}'), range(int(num_qubits - index), num_qubits), inplace=True)\n",
    "        \n",
    "        # Adds 1 pooling layer to the circuit by converting the pooling circuit to a gate\n",
    "        pool_qc, iter = pool_layer(pool_qc, parameter_vec, iter)\n",
    "        qc.compose(pool_qc.to_instruction(label=f'Pooling Layer {layer}'), range(int(num_qubits - index), num_qubits), inplace=True)\n",
    "\n",
    "        # Handle tracker increment or decrement\n",
    "        index = int(index / 2)\n",
    "        layer += 1\n",
    "\n",
    "    # Constructs weight parameter by removing ZFeatureMap's parameters from the total\n",
    "    weight_params = qc.parameters - feature_map.parameters\n",
    "    return qc, feature_map.parameters, weight_params\n"
   ]
  },
  {
   "cell_type": "code",
   "execution_count": 3,
   "id": "47a5fafe-45d5-4426-b50d-802317d883cd",
   "metadata": {},
   "outputs": [],
   "source": [
    "\"\"\" PERSONAL NOTES\n",
    "2 qubits = 6 parameters\n",
    "4 qubits = 24 parameters\n",
    "8 qubtes = 60 parameters\n",
    "observables=SparsePauliOp.from_list([(\"Z\" + \"I\" * 7, 1)])\n",
    "\"\"\"\n",
    "\n",
    "# Declares the Quantum Convolutional Circuit and extracts the input and weigh parameters from the qcnn_circuit method\n",
    "qcnn, input_params, weight_params = qcnn_circuit(16, 1)\n",
    "\n",
    "qcnn_est = EstimatorQNN(circuit=qcnn.decompose(), input_params=input_params, weight_params=weight_params)\n",
    "#qcnn.draw(\"mpl\", style=\"clifford\")"
   ]
  },
  {
   "cell_type": "code",
   "execution_count": 4,
   "id": "97d385fb-1226-43f1-8e06-998e013c7cc4",
   "metadata": {},
   "outputs": [],
   "source": [
    "# To plot the progress of the circuits learning\n",
    "def callback_graph(weights, obj_func_eval):\n",
    "    clear_output(wait=True)\n",
    "    objective_func_vals.append(obj_func_eval)\n",
    "    plt.title(\"Objective function value against iteration\")\n",
    "    plt.xlabel(\"Iteration\")\n",
    "    plt.ylabel(\"Objective function value\")\n",
    "    plt.plot(range(len(objective_func_vals)), objective_func_vals)\n",
    "    plt.show()"
   ]
  },
  {
   "cell_type": "markdown",
   "id": "c4200982-6bc5-4738-8ec6-7a51ac8eb353",
   "metadata": {},
   "source": [
    "## QCNN Binary Classification"
   ]
  },
  {
   "cell_type": "code",
   "execution_count": 5,
   "id": "c415cbb4-f19f-41d4-8616-f90e7860c88d",
   "metadata": {},
   "outputs": [],
   "source": [
    "# Declares Classifier\n",
    "classifier = NeuralNetworkClassifier(\n",
    "    qcnn_est,\n",
    "    optimizer=COBYLA(maxiter=500),  # Set max iterations here\n",
    "    #callback=callback_graph,\n",
    "    #initial_point=initial_point,\n",
    ")"
   ]
  },
  {
   "cell_type": "code",
   "execution_count": 6,
   "id": "54ee15d9-dcbf-4c4d-940e-026eb593527f",
   "metadata": {},
   "outputs": [],
   "source": [
    "def generate_dataset(num_images):\n",
    "    images = []\n",
    "    labels = []\n",
    "    hor_array = np.zeros((6, 8))\n",
    "    ver_array = np.zeros((4, 8))\n",
    "\n",
    "    j = 0\n",
    "    for i in range(0, 7):\n",
    "        if i != 3:\n",
    "            hor_array[j][i] = np.pi / 2\n",
    "            hor_array[j][i + 1] = np.pi / 2\n",
    "            j += 1\n",
    "\n",
    "    j = 0\n",
    "    for i in range(0, 4):\n",
    "        ver_array[j][i] = np.pi / 2\n",
    "        ver_array[j][i + 4] = np.pi / 2\n",
    "        j += 1\n",
    "\n",
    "    for n in range(num_images):\n",
    "        rng = algorithm_globals.random.integers(0, 3)\n",
    "        if rng == 0:\n",
    "            labels.append(-1)\n",
    "            random_image = algorithm_globals.random.integers(0, 6)\n",
    "            images.append(np.array(hor_array[random_image]))\n",
    "        elif rng == 1:\n",
    "            labels.append(1)\n",
    "            random_image = algorithm_globals.random.integers(0, 4)\n",
    "            images.append(np.array(ver_array[random_image]))\n",
    "\n",
    "        # Create noise\n",
    "        for i in range(8):\n",
    "            if images[-1][i] == 0:\n",
    "                images[-1][i] = algorithm_globals.random.uniform(0, np.pi / 4)\n",
    "    return images, labels\n",
    "\n",
    "\n",
    "#images, labels = generate_dataset(50)\n",
    "images = [np.array([0, 0, 0, 0, 0, 0, 0, 0, 0, 0, 0, 0, 0, 0, 0, 0]),\n",
    "             np.array([1, 0, 0, 0, 0, 0, 0, 0, 0, 0, 0, 0, 0, 0, 0, 0]),\n",
    "             np.array([1, 1, 0, 0, 0, 0, 0, 0, 0, 0, 0, 0, 0, 0, 0, 0]),\n",
    "             np.array([1, 1, 1, 0, 0, 0, 0, 0, 0, 0, 0, 0, 0, 0, 0, 0]),\n",
    "             np.array([1, 1, 1, 1, 0, 0, 0, 0, 0, 0, 0, 0, 0, 0, 0, 0]),\n",
    "             np.array([1, 1, 1, 1, 1, 0, 0, 0, 0, 0, 0, 0, 0, 0, 0, 0]),\n",
    "             np.array([1, 1, 1, 1, 1, 1, 0, 0, 0, 0, 0, 0, 0, 0, 0, 0]),\n",
    "             np.array([1, 1, 1, 1, 1, 1, 1, 0, 0, 0, 0, 0, 0, 0, 0, 0]),\n",
    "             np.array([0, 0, 0, 0, 0, 0, 0, 0, 0, 0, 0, 0, 0, 0, 0, 0]), #even\n",
    "             np.array([0, 0, 1, 0, 0, 0, 0, 0, 0, 0, 0, 0, 0, 0, 0, 0]),\n",
    "             np.array([0, 1, 0, 1, 0, 0, 0, 0, 0, 0, 0, 0, 0, 0, 0, 0]),\n",
    "             np.array([0, 1, 1, 0, 1, 0, 0, 0, 0, 0, 0, 0, 0, 0, 0, 0]),\n",
    "             np.array([1, 0, 1, 1, 0, 1, 0, 0, 0, 0, 0, 0, 0, 0, 0, 0]),\n",
    "             np.array([1, 1, 1, 0, 1, 0, 1, 0, 0, 0, 0, 0, 0, 0, 0, 0]),\n",
    "             np.array([1, 1, 0, 1, 1, 1, 0, 1, 0, 0, 0, 0, 0, 0, 0, 0]),\n",
    "             np.array([1, 1, 1, 1, 1, 0, 1, 1, 0, 0, 0, 0, 0, 0, 0, 0])]\n",
    "labels = [1, 1, -1, 1, -1, 1, -1, 1, -1, 1, -1, 1, -1, 1, -1, 1]\n",
    "\n",
    "train_images, test_images, train_labels, test_labels = train_test_split(images, labels, test_size=0.3, random_state=246)\n",
    "\n",
    "x = np.asarray(train_images)\n",
    "y = np.asarray(train_labels)\n",
    "\n",
    "objective_func_vals = []\n",
    "\n",
    "plt.rcParams[\"figure.figsize\"] = (12, 6)\n"
   ]
  },
  {
   "cell_type": "code",
   "execution_count": 7,
   "id": "3a6e6711-8ce3-4f92-b4a4-fec266aa8321",
   "metadata": {},
   "outputs": [
    {
     "data": {
      "text/plain": [
       "<qiskit_machine_learning.algorithms.classifiers.neural_network_classifier.NeuralNetworkClassifier at 0x15fef79d0>"
      ]
     },
     "execution_count": 7,
     "metadata": {},
     "output_type": "execute_result"
    }
   ],
   "source": [
    "classifier.fit(x, y)"
   ]
  },
  {
   "cell_type": "code",
   "execution_count": 34,
   "id": "bd5f4fe3-9d69-4530-92df-6b902c751db2",
   "metadata": {},
   "outputs": [
    {
     "ename": "ValueError",
     "evalue": "Found input variables with inconsistent numbers of samples: [14, 13]",
     "output_type": "error",
     "traceback": [
      "\u001b[0;31m---------------------------------------------------------------------------\u001b[0m",
      "\u001b[0;31mValueError\u001b[0m                                Traceback (most recent call last)",
      "Cell \u001b[0;32mIn[34], line 5\u001b[0m\n\u001b[1;32m      2\u001b[0m x \u001b[38;5;241m=\u001b[39m np\u001b[38;5;241m.\u001b[39masarray(test_images)\n\u001b[1;32m      3\u001b[0m y \u001b[38;5;241m=\u001b[39m np\u001b[38;5;241m.\u001b[39masarray(test_labels)\n\u001b[0;32m----> 5\u001b[0m \u001b[38;5;28mprint\u001b[39m(\u001b[38;5;124mf\u001b[39m\u001b[38;5;124m\"\u001b[39m\u001b[38;5;124mAccuracy from the test data : \u001b[39m\u001b[38;5;132;01m{\u001b[39;00mnp\u001b[38;5;241m.\u001b[39mround(\u001b[38;5;241m100\u001b[39m\u001b[38;5;250m \u001b[39m\u001b[38;5;241m*\u001b[39m\u001b[38;5;250m \u001b[39m\u001b[43mclassifier\u001b[49m\u001b[38;5;241;43m.\u001b[39;49m\u001b[43mscore\u001b[49m\u001b[43m(\u001b[49m\u001b[43mx\u001b[49m\u001b[43m,\u001b[49m\u001b[38;5;250;43m \u001b[39;49m\u001b[43my\u001b[49m\u001b[43m)\u001b[49m,\u001b[38;5;250m \u001b[39m\u001b[38;5;241m2\u001b[39m)\u001b[38;5;132;01m}\u001b[39;00m\u001b[38;5;124m%\u001b[39m\u001b[38;5;124m\"\u001b[39m)\n\u001b[1;32m      7\u001b[0m \u001b[38;5;66;03m# Let's see some examples in our dataset\u001b[39;00m\n\u001b[1;32m      8\u001b[0m fig, ax \u001b[38;5;241m=\u001b[39m plt\u001b[38;5;241m.\u001b[39msubplots(\u001b[38;5;241m2\u001b[39m, \u001b[38;5;241m2\u001b[39m, figsize\u001b[38;5;241m=\u001b[39m(\u001b[38;5;241m10\u001b[39m, \u001b[38;5;241m6\u001b[39m), subplot_kw\u001b[38;5;241m=\u001b[39m{\u001b[38;5;124m\"\u001b[39m\u001b[38;5;124mxticks\u001b[39m\u001b[38;5;124m\"\u001b[39m: [], \u001b[38;5;124m\"\u001b[39m\u001b[38;5;124myticks\u001b[39m\u001b[38;5;124m\"\u001b[39m: []})\n",
      "File \u001b[0;32m/usr/local/lib/python3.11/site-packages/qiskit_machine_learning/algorithms/classifiers/neural_network_classifier.py:160\u001b[0m, in \u001b[0;36mNeuralNetworkClassifier.score\u001b[0;34m(self, X, y, sample_weight)\u001b[0m\n\u001b[1;32m    159\u001b[0m \u001b[38;5;28;01mdef\u001b[39;00m \u001b[38;5;21mscore\u001b[39m(\u001b[38;5;28mself\u001b[39m, X: np\u001b[38;5;241m.\u001b[39mndarray, y: np\u001b[38;5;241m.\u001b[39mndarray, sample_weight: np\u001b[38;5;241m.\u001b[39mndarray \u001b[38;5;241m|\u001b[39m \u001b[38;5;28;01mNone\u001b[39;00m \u001b[38;5;241m=\u001b[39m \u001b[38;5;28;01mNone\u001b[39;00m) \u001b[38;5;241m-\u001b[39m\u001b[38;5;241m>\u001b[39m \u001b[38;5;28mfloat\u001b[39m:\n\u001b[0;32m--> 160\u001b[0m     \u001b[38;5;28;01mreturn\u001b[39;00m \u001b[43mClassifierMixin\u001b[49m\u001b[38;5;241;43m.\u001b[39;49m\u001b[43mscore\u001b[49m\u001b[43m(\u001b[49m\u001b[38;5;28;43mself\u001b[39;49m\u001b[43m,\u001b[49m\u001b[43m \u001b[49m\u001b[43mX\u001b[49m\u001b[43m,\u001b[49m\u001b[43m \u001b[49m\u001b[43my\u001b[49m\u001b[43m,\u001b[49m\u001b[43m \u001b[49m\u001b[43msample_weight\u001b[49m\u001b[43m)\u001b[49m\n",
      "File \u001b[0;32m/usr/local/lib/python3.11/site-packages/sklearn/base.py:668\u001b[0m, in \u001b[0;36mClassifierMixin.score\u001b[0;34m(self, X, y, sample_weight)\u001b[0m\n\u001b[1;32m    643\u001b[0m \u001b[38;5;250m\u001b[39m\u001b[38;5;124;03m\"\"\"\u001b[39;00m\n\u001b[1;32m    644\u001b[0m \u001b[38;5;124;03mReturn the mean accuracy on the given test data and labels.\u001b[39;00m\n\u001b[1;32m    645\u001b[0m \n\u001b[0;32m   (...)\u001b[0m\n\u001b[1;32m    664\u001b[0m \u001b[38;5;124;03m    Mean accuracy of ``self.predict(X)`` w.r.t. `y`.\u001b[39;00m\n\u001b[1;32m    665\u001b[0m \u001b[38;5;124;03m\"\"\"\u001b[39;00m\n\u001b[1;32m    666\u001b[0m \u001b[38;5;28;01mfrom\u001b[39;00m \u001b[38;5;21;01m.\u001b[39;00m\u001b[38;5;21;01mmetrics\u001b[39;00m \u001b[38;5;28;01mimport\u001b[39;00m accuracy_score\n\u001b[0;32m--> 668\u001b[0m \u001b[38;5;28;01mreturn\u001b[39;00m \u001b[43maccuracy_score\u001b[49m\u001b[43m(\u001b[49m\u001b[43my\u001b[49m\u001b[43m,\u001b[49m\u001b[43m \u001b[49m\u001b[38;5;28;43mself\u001b[39;49m\u001b[38;5;241;43m.\u001b[39;49m\u001b[43mpredict\u001b[49m\u001b[43m(\u001b[49m\u001b[43mX\u001b[49m\u001b[43m)\u001b[49m\u001b[43m,\u001b[49m\u001b[43m \u001b[49m\u001b[43msample_weight\u001b[49m\u001b[38;5;241;43m=\u001b[39;49m\u001b[43msample_weight\u001b[49m\u001b[43m)\u001b[49m\n",
      "File \u001b[0;32m/usr/local/lib/python3.11/site-packages/sklearn/utils/_param_validation.py:192\u001b[0m, in \u001b[0;36mvalidate_params.<locals>.decorator.<locals>.wrapper\u001b[0;34m(*args, **kwargs)\u001b[0m\n\u001b[1;32m    187\u001b[0m validate_parameter_constraints(\n\u001b[1;32m    188\u001b[0m     parameter_constraints, params, caller_name\u001b[38;5;241m=\u001b[39mfunc\u001b[38;5;241m.\u001b[39m\u001b[38;5;18m__qualname__\u001b[39m\n\u001b[1;32m    189\u001b[0m )\n\u001b[1;32m    191\u001b[0m \u001b[38;5;28;01mtry\u001b[39;00m:\n\u001b[0;32m--> 192\u001b[0m     \u001b[38;5;28;01mreturn\u001b[39;00m \u001b[43mfunc\u001b[49m\u001b[43m(\u001b[49m\u001b[38;5;241;43m*\u001b[39;49m\u001b[43margs\u001b[49m\u001b[43m,\u001b[49m\u001b[43m \u001b[49m\u001b[38;5;241;43m*\u001b[39;49m\u001b[38;5;241;43m*\u001b[39;49m\u001b[43mkwargs\u001b[49m\u001b[43m)\u001b[49m\n\u001b[1;32m    193\u001b[0m \u001b[38;5;28;01mexcept\u001b[39;00m InvalidParameterError \u001b[38;5;28;01mas\u001b[39;00m e:\n\u001b[1;32m    194\u001b[0m     \u001b[38;5;66;03m# When the function is just a wrapper around an estimator, we allow\u001b[39;00m\n\u001b[1;32m    195\u001b[0m     \u001b[38;5;66;03m# the function to delegate validation to the estimator, but we replace\u001b[39;00m\n\u001b[1;32m    196\u001b[0m     \u001b[38;5;66;03m# the name of the estimator by the name of the function in the error\u001b[39;00m\n\u001b[1;32m    197\u001b[0m     \u001b[38;5;66;03m# message to avoid confusion.\u001b[39;00m\n\u001b[1;32m    198\u001b[0m     msg \u001b[38;5;241m=\u001b[39m re\u001b[38;5;241m.\u001b[39msub(\n\u001b[1;32m    199\u001b[0m         \u001b[38;5;124mr\u001b[39m\u001b[38;5;124m\"\u001b[39m\u001b[38;5;124mparameter of \u001b[39m\u001b[38;5;124m\\\u001b[39m\u001b[38;5;124mw+ must be\u001b[39m\u001b[38;5;124m\"\u001b[39m,\n\u001b[1;32m    200\u001b[0m         \u001b[38;5;124mf\u001b[39m\u001b[38;5;124m\"\u001b[39m\u001b[38;5;124mparameter of \u001b[39m\u001b[38;5;132;01m{\u001b[39;00mfunc\u001b[38;5;241m.\u001b[39m\u001b[38;5;18m__qualname__\u001b[39m\u001b[38;5;132;01m}\u001b[39;00m\u001b[38;5;124m must be\u001b[39m\u001b[38;5;124m\"\u001b[39m,\n\u001b[1;32m    201\u001b[0m         \u001b[38;5;28mstr\u001b[39m(e),\n\u001b[1;32m    202\u001b[0m     )\n",
      "File \u001b[0;32m/usr/local/lib/python3.11/site-packages/sklearn/metrics/_classification.py:221\u001b[0m, in \u001b[0;36maccuracy_score\u001b[0;34m(y_true, y_pred, normalize, sample_weight)\u001b[0m\n\u001b[1;32m    155\u001b[0m \u001b[38;5;250m\u001b[39m\u001b[38;5;124;03m\"\"\"Accuracy classification score.\u001b[39;00m\n\u001b[1;32m    156\u001b[0m \n\u001b[1;32m    157\u001b[0m \u001b[38;5;124;03mIn multilabel classification, this function computes subset accuracy:\u001b[39;00m\n\u001b[0;32m   (...)\u001b[0m\n\u001b[1;32m    217\u001b[0m \u001b[38;5;124;03m0.5\u001b[39;00m\n\u001b[1;32m    218\u001b[0m \u001b[38;5;124;03m\"\"\"\u001b[39;00m\n\u001b[1;32m    220\u001b[0m \u001b[38;5;66;03m# Compute accuracy for each possible representation\u001b[39;00m\n\u001b[0;32m--> 221\u001b[0m y_type, y_true, y_pred \u001b[38;5;241m=\u001b[39m \u001b[43m_check_targets\u001b[49m\u001b[43m(\u001b[49m\u001b[43my_true\u001b[49m\u001b[43m,\u001b[49m\u001b[43m \u001b[49m\u001b[43my_pred\u001b[49m\u001b[43m)\u001b[49m\n\u001b[1;32m    222\u001b[0m check_consistent_length(y_true, y_pred, sample_weight)\n\u001b[1;32m    223\u001b[0m \u001b[38;5;28;01mif\u001b[39;00m y_type\u001b[38;5;241m.\u001b[39mstartswith(\u001b[38;5;124m\"\u001b[39m\u001b[38;5;124mmultilabel\u001b[39m\u001b[38;5;124m\"\u001b[39m):\n",
      "File \u001b[0;32m/usr/local/lib/python3.11/site-packages/sklearn/metrics/_classification.py:86\u001b[0m, in \u001b[0;36m_check_targets\u001b[0;34m(y_true, y_pred)\u001b[0m\n\u001b[1;32m     59\u001b[0m \u001b[38;5;28;01mdef\u001b[39;00m \u001b[38;5;21m_check_targets\u001b[39m(y_true, y_pred):\n\u001b[1;32m     60\u001b[0m \u001b[38;5;250m    \u001b[39m\u001b[38;5;124;03m\"\"\"Check that y_true and y_pred belong to the same classification task.\u001b[39;00m\n\u001b[1;32m     61\u001b[0m \n\u001b[1;32m     62\u001b[0m \u001b[38;5;124;03m    This converts multiclass or binary types to a common shape, and raises a\u001b[39;00m\n\u001b[0;32m   (...)\u001b[0m\n\u001b[1;32m     84\u001b[0m \u001b[38;5;124;03m    y_pred : array or indicator matrix\u001b[39;00m\n\u001b[1;32m     85\u001b[0m \u001b[38;5;124;03m    \"\"\"\u001b[39;00m\n\u001b[0;32m---> 86\u001b[0m     \u001b[43mcheck_consistent_length\u001b[49m\u001b[43m(\u001b[49m\u001b[43my_true\u001b[49m\u001b[43m,\u001b[49m\u001b[43m \u001b[49m\u001b[43my_pred\u001b[49m\u001b[43m)\u001b[49m\n\u001b[1;32m     87\u001b[0m     type_true \u001b[38;5;241m=\u001b[39m type_of_target(y_true, input_name\u001b[38;5;241m=\u001b[39m\u001b[38;5;124m\"\u001b[39m\u001b[38;5;124my_true\u001b[39m\u001b[38;5;124m\"\u001b[39m)\n\u001b[1;32m     88\u001b[0m     type_pred \u001b[38;5;241m=\u001b[39m type_of_target(y_pred, input_name\u001b[38;5;241m=\u001b[39m\u001b[38;5;124m\"\u001b[39m\u001b[38;5;124my_pred\u001b[39m\u001b[38;5;124m\"\u001b[39m)\n",
      "File \u001b[0;32m/usr/local/lib/python3.11/site-packages/sklearn/utils/validation.py:397\u001b[0m, in \u001b[0;36mcheck_consistent_length\u001b[0;34m(*arrays)\u001b[0m\n\u001b[1;32m    395\u001b[0m uniques \u001b[38;5;241m=\u001b[39m np\u001b[38;5;241m.\u001b[39munique(lengths)\n\u001b[1;32m    396\u001b[0m \u001b[38;5;28;01mif\u001b[39;00m \u001b[38;5;28mlen\u001b[39m(uniques) \u001b[38;5;241m>\u001b[39m \u001b[38;5;241m1\u001b[39m:\n\u001b[0;32m--> 397\u001b[0m     \u001b[38;5;28;01mraise\u001b[39;00m \u001b[38;5;167;01mValueError\u001b[39;00m(\n\u001b[1;32m    398\u001b[0m         \u001b[38;5;124m\"\u001b[39m\u001b[38;5;124mFound input variables with inconsistent numbers of samples: \u001b[39m\u001b[38;5;132;01m%r\u001b[39;00m\u001b[38;5;124m\"\u001b[39m\n\u001b[1;32m    399\u001b[0m         \u001b[38;5;241m%\u001b[39m [\u001b[38;5;28mint\u001b[39m(l) \u001b[38;5;28;01mfor\u001b[39;00m l \u001b[38;5;129;01min\u001b[39;00m lengths]\n\u001b[1;32m    400\u001b[0m     )\n",
      "\u001b[0;31mValueError\u001b[0m: Found input variables with inconsistent numbers of samples: [14, 13]"
     ]
    }
   ],
   "source": [
    "y_predict = classifier.predict(test_images)\n",
    "x = np.asarray(test_images)\n",
    "y = np.asarray(test_labels)\n",
    "\n",
    "print(f\"Accuracy from the test data : {np.round(100 * classifier.score(x, y), 2)}%\")\n",
    "\n",
    "# Let's see some examples in our dataset\n",
    "fig, ax = plt.subplots(2, 2, figsize=(10, 6), subplot_kw={\"xticks\": [], \"yticks\": []})\n",
    "for i in range(0, 4):\n",
    "    ax[i // 2, i % 2].imshow(test_images[i].reshape(2, 4), aspect=\"equal\")\n",
    "    if y_predict[i] == -1:\n",
    "        ax[i // 2, i % 2].set_title(\"The QCNN predicts this is a Horizontal Line\")\n",
    "    if y_predict[i] == +1:\n",
    "        ax[i // 2, i % 2].set_title(\"The QCNN predicts this is a Vertical Line\")\n",
    "plt.subplots_adjust(wspace=0.1, hspace=0.5)"
   ]
  },
  {
   "cell_type": "markdown",
   "id": "20902c84-309a-4784-a5c1-66f394e7319e",
   "metadata": {},
   "source": [
    "## QCNN multi-class?"
   ]
  },
  {
   "cell_type": "code",
   "execution_count": 6,
   "id": "bb804d0a-19bd-4c87-85fb-c1c2489e90d1",
   "metadata": {},
   "outputs": [
    {
     "name": "stdout",
     "output_type": "stream",
     "text": [
      "(2,)\n",
      "{ParameterVectorElement(θ[0]), ParameterVectorElement(θ[28]), ParameterVectorElement(θ[17]), ParameterVectorElement(θ[37]), ParameterVectorElement(θ[26]), ParameterVectorElement(θ[2]), ParameterVectorElement(θ[20]), ParameterVectorElement(θ[32]), ParameterVectorElement(θ[48]), ParameterVectorElement(θ[6]), ParameterVectorElement(θ[23]), ParameterVectorElement(θ[34]), ParameterVectorElement(θ[38]), ParameterVectorElement(θ[53]), ParameterVectorElement(θ[49]), ParameterVectorElement(θ[36]), ParameterVectorElement(θ[13]), ParameterVectorElement(θ[11]), ParameterVectorElement(θ[42]), ParameterVectorElement(θ[35]), ParameterVectorElement(θ[52]), ParameterVectorElement(θ[8]), ParameterVectorElement(θ[5]), ParameterVectorElement(θ[30]), ParameterVectorElement(θ[44]), ParameterVectorElement(θ[18]), ParameterVectorElement(θ[33]), ParameterVectorElement(θ[9]), ParameterVectorElement(θ[7]), ParameterVectorElement(θ[19]), ParameterVectorElement(θ[3]), ParameterVectorElement(θ[15]), ParameterVectorElement(θ[14]), ParameterVectorElement(θ[50]), ParameterVectorElement(θ[10]), ParameterVectorElement(θ[24]), ParameterVectorElement(θ[4]), ParameterVectorElement(θ[51]), ParameterVectorElement(θ[39]), ParameterVectorElement(θ[1]), ParameterVectorElement(θ[31]), ParameterVectorElement(θ[27]), ParameterVectorElement(θ[16]), ParameterVectorElement(θ[22]), ParameterVectorElement(θ[40]), ParameterVectorElement(θ[25]), ParameterVectorElement(θ[41]), ParameterVectorElement(θ[29]), ParameterVectorElement(θ[43]), ParameterVectorElement(θ[12]), ParameterVectorElement(θ[21])}\n",
      "ParameterView([ParameterVectorElement(x[0]), ParameterVectorElement(x[1]), ParameterVectorElement(x[2]), ParameterVectorElement(x[3]), ParameterVectorElement(x[4]), ParameterVectorElement(x[5]), ParameterVectorElement(x[6]), ParameterVectorElement(x[7])])\n"
     ]
    }
   ],
   "source": [
    "in_qubits, out_qubits = 16, 1\n",
    "qcnn2, input_params2, weight_params2 = qcnn_circuit(in_qubits, out_qubits)\n",
    "\n",
    "def func(x):\n",
    "    return x % 2**out_qubits # Mod amount must match out_qubits\n",
    "\n",
    "qcnn_est2 = SamplerQNN(circuit=qcnn.decompose(),\n",
    "                       input_params=input_params, weight_params=weight_params,\n",
    "                       interpret=func, output_shape=(2**out_qubits))\n",
    "classifier2 = NeuralNetworkClassifier(qcnn_est2, optimizer=COBYLA(maxiter=500))\n",
    "print(qcnn_est2.output_shape)\n",
    "\n",
    "twoDarray = [np.array([0, 0, 0, 0, 0, 0, 0, 0, 0, 0, 0, 0, 0, 0, 0, 0]),\n",
    "             np.array([1, 0, 0, 0, 0, 0, 0, 0, 0, 0, 0, 0, 0, 0, 0, 0]),\n",
    "             np.array([1, 1, 0, 0, 0, 0, 0, 0, 0, 0, 0, 0, 0, 0, 0, 0]),\n",
    "             np.array([1, 1, 1, 0, 0, 0, 0, 0, 0, 0, 0, 0, 0, 0, 0, 0]),\n",
    "             np.array([1, 1, 1, 1, 0, 0, 0, 0, 0, 0, 0, 0, 0, 0, 0, 0]),\n",
    "             np.array([1, 1, 1, 1, 1, 0, 0, 0, 0, 0, 0, 0, 0, 0, 0, 0]),\n",
    "             np.array([1, 1, 1, 1, 1, 1, 0, 0, 0, 0, 0, 0, 0, 0, 0, 0]),\n",
    "             np.array([1, 1, 1, 1, 1, 1, 1, 0, 0, 0, 0, 0, 0, 0, 0, 0]),\n",
    "             np.array([0, 0, 0, 0, 0, 0, 0, 0, 0, 0, 0, 0, 0, 0, 0, 0]), #even\n",
    "             np.array([0, 0, 1, 0, 0, 0, 0, 0, 0, 0, 0, 0, 0, 0, 0, 0]),\n",
    "             np.array([0, 1, 0, 1, 0, 0, 0, 0, 0, 0, 0, 0, 0, 0, 0, 0]),\n",
    "             np.array([0, 1, 1, 0, 1, 0, 0, 0, 0, 0, 0, 0, 0, 0, 0, 0]),\n",
    "             np.array([1, 0, 1, 1, 0, 1, 0, 0, 0, 0, 0, 0, 0, 0, 0, 0]),\n",
    "             np.array([1, 1, 1, 0, 1, 0, 1, 0, 0, 0, 0, 0, 0, 0, 0, 0]),\n",
    "             np.array([1, 1, 0, 1, 1, 1, 0, 1, 0, 0, 0, 0, 0, 0, 0, 0]),\n",
    "             np.array([1, 1, 1, 1, 1, 0, 1, 1, 0, 0, 0, 0, 0, 0, 0, 0])]\n",
    "twoDarrayAns = [.3, .3, .5, .3, .5, .3, .5, .3, .5, .3, .5, .3, .5, .3, .5, .3]\n",
    "\n",
    "trainer, tester, trainer_ans, tester_ans = train_test_split(twoDarray, twoDarrayAns, test_size=0.25, random_state=246)\n",
    "\n",
    "x2 = np.asarray(trainer)\n",
    "y2 = np.asarray(trainer_ans)\n",
    "\n",
    "objective_func_vals2 = []\n",
    "\n",
    "plt.rcParams[\"figure.figsize\"] = (12, 6)\n",
    "print(weight_params)\n",
    "print(input_params)"
   ]
  },
  {
   "cell_type": "code",
   "execution_count": null,
   "id": "608601c0-dfbb-48b1-be19-032f1e2a1e45",
   "metadata": {},
   "outputs": [
    {
     "name": "stderr",
     "output_type": "stream",
     "text": [
      "Traceback (most recent call last):\n",
      "  File \"/usr/local/lib/python3.11/site-packages/scipy/optimize/_cobyla_py.py\", line 258, in calcfc\n",
      "capi_return is NULL\n",
      "Call-back cb_calcfc_in__cobyla__user__routines failed.\n",
      "Fatal Python error: F2PySwapThreadLocalCallbackPtr: F2PySwapThreadLocalCallbackPtr: PyLong_AsVoidPtr failed\n",
      "Python runtime state: initialized\n",
      "    f = fun(np.copy(x), *args)\n",
      "        ^^^^^^^^^^^^^^^^^^^^^^\n",
      "  File \"/usr/local/lib/python3.11/site-packages/qiskit_machine_learning/algorithms/objective_functions.py\", line 152, in objective\n",
      "    probs = self._neural_network_forward(weights)\n",
      "            ^^^^^^^^^^^^^^^^^^^^^^^^^^^^^^^^^^^^^\n",
      "  File \"/usr/local/lib/python3.11/site-packages/qiskit_machine_learning/algorithms/objective_functions.py\", line 102, in _neural_network_forward\n",
      "    self._last_forward = self._neural_network.forward(self._X, weights)\n",
      "                         ^^^^^^^^^^^^^^^^^^^^^^^^^^^^^^^^^^^^^^^^^^^^^^\n",
      "  File \"/usr/local/lib/python3.11/site-packages/qiskit_machine_learning/neural_networks/neural_network.py\", line 226, in forward\n",
      "    input_, shape = self._validate_input(input_data)\n",
      "                    ^^^^^^^^^^^^^^^^^^^^^^^^^^^^^^^^\n",
      "  File \"/usr/local/lib/python3.11/site-packages/qiskit_machine_learning/neural_networks/neural_network.py\", line 134, in _validate_input\n",
      "    raise QiskitMachineLearningError(\n",
      "qiskit_machine_learning.exceptions.QiskitMachineLearningError: 'Input data has incorrect shape, last dimension is not equal to the number of inputs: 8, but got: 16.'\n",
      "\n",
      "Extension modules: zmq.backend.cython.context, zmq.backend.cython.message, zmq.backend.cython.socket, zmq.backend.cython._device, zmq.backend.cython._poll, zmq.backend.cython._proxy_steerable, zmq.backend.cython._version, zmq.backend.cython.error, zmq.backend.cython.utils, tornado.speedups, psutil._psutil_osx, psutil._psutil_posix, numpy.core._multiarray_umath, numpy.core._multiarray_tests, numpy.linalg._umath_linalg, numpy.fft._pocketfft_internal, numpy.random._common, numpy.random.bit_generator, numpy.random._bounded_integers, numpy.random._mt19937, numpy.random.mtrand, numpy.random._philox, numpy.random._pcg64, numpy.random._sfc64, numpy.random._generator, PIL._imaging, symengine.lib.symengine_wrapper, scipy._lib._ccallback_c, scipy.special._ufuncs_cxx, scipy.special._ufuncs, scipy.special._specfun, scipy.special._comb, scipy.linalg._fblas, scipy.linalg._flapack, scipy.linalg._cythonized_array_utils, scipy.linalg._flinalg, scipy.linalg._solve_toeplitz, scipy.linalg._matfuncs_sqrtm_triu, scipy.linalg.cython_lapack, scipy.linalg.cython_blas, scipy.linalg._matfuncs_expm, scipy.linalg._decomp_update, scipy.sparse._sparsetools, _csparsetools, scipy.sparse._csparsetools, scip"
     ]
    }
   ],
   "source": [
    "classifier2.fit(x2, y2)"
   ]
  },
  {
   "cell_type": "code",
   "execution_count": 16,
   "id": "3c1fc767-de5f-483c-af36-059eaeb6694d",
   "metadata": {},
   "outputs": [
    {
     "name": "stdout",
     "output_type": "stream",
     "text": [
      "[[1 1 1 1 1 1 0 0]\n",
      " [1 1 1 1 1 0 0 0]\n",
      " [1 1 1 0 1 0 1 0]\n",
      " [0 1 1 0 1 0 0 0]]\n",
      "[0.5 0.3 0.3 0.3]\n",
      "[0 0 2 0]\n"
     ]
    }
   ],
   "source": [
    "y_predict = classifier2.predict(tester)\n",
    "xg = np.asarray(tester)\n",
    "yg = np.asarray(tester_ans)\n",
    "\n",
    "print(xg)\n",
    "print(yg)\n",
    "print(y_predict)\n",
    "#print(f\"Accuracy from the test data : {np.round(100 * classifier2.score(xg, yg), 2)}%\")"
   ]
  },
  {
   "cell_type": "code",
   "execution_count": 20,
   "id": "fdb90206-aeea-4282-aea6-7d33c8433c0d",
   "metadata": {},
   "outputs": [
    {
     "ename": "ModuleNotFoundError",
     "evalue": "No module named 'google'",
     "output_type": "error",
     "traceback": [
      "\u001b[0;31m---------------------------------------------------------------------------\u001b[0m",
      "\u001b[0;31mModuleNotFoundError\u001b[0m                       Traceback (most recent call last)",
      "Cell \u001b[0;32mIn[20], line 1\u001b[0m\n\u001b[0;32m----> 1\u001b[0m \u001b[38;5;28;01mfrom\u001b[39;00m \u001b[38;5;21;01mgoogle\u001b[39;00m\u001b[38;5;21;01m.\u001b[39;00m\u001b[38;5;21;01mcolab\u001b[39;00m \u001b[38;5;28;01mimport\u001b[39;00m drive\n\u001b[1;32m      2\u001b[0m drive\u001b[38;5;241m.\u001b[39mmount(\u001b[38;5;124m'\u001b[39m\u001b[38;5;124m/content/drive\u001b[39m\u001b[38;5;124m'\u001b[39m)\n\u001b[1;32m      4\u001b[0m \u001b[38;5;28;01mimport\u001b[39;00m \u001b[38;5;21;01mos\u001b[39;00m\n",
      "\u001b[0;31mModuleNotFoundError\u001b[0m: No module named 'google'"
     ]
    }
   ],
   "source": [
    "from google.colab import drive\n",
    "drive.mount('/content/drive')\n",
    "\n",
    "import os\n",
    "import chess\n",
    "import numpy as np\n",
    "import pandas as pd\n",
    "from tensorflow import keras\n",
    "from tensorflow.keras import layers\n",
    "\n",
    "\n",
    "os.chdir('/content/drive/MyDrive/')\n",
    "df = pd.read_csv('games_data.csv')\n",
    "data = df['moves'].tolist()"
   ]
  },
  {
   "cell_type": "code",
   "execution_count": null,
   "id": "b1022e3f-e295-4310-8d1f-b6335dc2388a",
   "metadata": {},
   "outputs": [],
   "source": []
  }
 ],
 "metadata": {
  "kernelspec": {
   "display_name": "Python 3 (ipykernel)",
   "language": "python",
   "name": "python3"
  },
  "language_info": {
   "codemirror_mode": {
    "name": "ipython",
    "version": 3
   },
   "file_extension": ".py",
   "mimetype": "text/x-python",
   "name": "python",
   "nbconvert_exporter": "python",
   "pygments_lexer": "ipython3",
   "version": "3.11.8"
  }
 },
 "nbformat": 4,
 "nbformat_minor": 5
}

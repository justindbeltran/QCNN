{
 "cells": [
  {
   "cell_type": "code",
   "execution_count": 2,
   "id": "f467bd0b-a10b-48c0-964c-e34f9d45bd02",
   "metadata": {},
   "outputs": [],
   "source": [
    "from qiskit import QuantumCircuit, QuantumRegister, ClassicalRegister, transpile, IBMQ\n",
    "from qiskit.circuit import Parameter, ParameterVector\n",
    "from qiskit.circuit.library import EfficientSU2, ZZFeatureMap, TwoLocal, NLocal\n",
    "from qiskit.visualization import plot_histogram, plot_distribution\n",
    "\n",
    "from qiskit.primitives import Sampler, Estimator\n",
    "\n",
    "import numpy as np\n",
    "import matplotlib.pyplot as plt"
   ]
  },
  {
   "cell_type": "code",
   "execution_count": 50,
   "id": "cfdaa4d0-05c5-4dca-940a-a95e667ef7bc",
   "metadata": {},
   "outputs": [
    {
     "data": {
      "text/html": [
       "<pre style=\"word-wrap: normal;white-space: pre;background: #fff0;line-height: 1.1;font-family: &quot;Courier New&quot;,Courier,monospace\">                 ┌───┐┌──────────┐                 ┌───┐┌─────────┐ ░ \n",
       "q_0: ────────────┤ X ├┤ Rz(θ[0]) ├──■──────────────┤ X ├┤ Rz(π/2) ├─░─\n",
       "     ┌──────────┐└─┬─┘├──────────┤┌─┴─┐┌──────────┐└─┬─┘└─────────┘ ░ \n",
       "q_1: ┤ Rz(-π/2) ├──■──┤ Ry(θ[1]) ├┤ X ├┤ Ry(θ[2]) ├──■──────────────░─\n",
       "     └──────────┘     └──────────┘└───┘└──────────┘                 ░ </pre>"
      ],
      "text/plain": [
       "                 ┌───┐┌──────────┐                 ┌───┐┌─────────┐ ░ \n",
       "q_0: ────────────┤ X ├┤ Rz(θ[0]) ├──■──────────────┤ X ├┤ Rz(π/2) ├─░─\n",
       "     ┌──────────┐└─┬─┘├──────────┤┌─┴─┐┌──────────┐└─┬─┘└─────────┘ ░ \n",
       "q_1: ┤ Rz(-π/2) ├──■──┤ Ry(θ[1]) ├┤ X ├┤ Ry(θ[2]) ├──■──────────────░─\n",
       "     └──────────┘     └──────────┘└───┘└──────────┘                 ░ "
      ]
     },
     "execution_count": 50,
     "metadata": {},
     "output_type": "execute_result"
    }
   ],
   "source": [
    "def conv_layer(qc:QuantumCircuit()) -> QuantumCircuit():\n",
    "    start = 0 if qc.num_qubits == 2 else -1\n",
    "    for i in range(start, qc.num_qubits-1):\n",
    "        qc.rz(-np.pi / 2, i+1)\n",
    "        qc.cx(i+1, i)\n",
    "        qc.rz(para_vec[3*i], i)\n",
    "        qc.ry(para_vec[(3*i)+1], i+1)\n",
    "        qc.cx(i, i+1)\n",
    "        qc.ry(para_vec[(3*i)+2], i+1)\n",
    "        qc.cx(i+1, i)\n",
    "        qc.rz(np.pi / 2, i)\n",
    "        qc.barrier()\n",
    "    qc_temp = qc\n",
    "    return qc_temp\n",
    "\n",
    "qc = QuantumCircuit(2)\n",
    "para_vec = ParameterVector(\"θ\", length=qc.num_qubits*3)\n",
    "conv_layer(qc)\n",
    "qc.draw(fold=130)"
   ]
  },
  {
   "cell_type": "code",
   "execution_count": 49,
   "id": "8febd39d-1665-46e6-978c-7f827f48eaad",
   "metadata": {},
   "outputs": [
    {
     "data": {
      "text/html": [
       "<pre style=\"word-wrap: normal;white-space: pre;background: #fff0;line-height: 1.1;font-family: &quot;Courier New&quot;,Courier,monospace\">                 ┌───┐┌──────────┐                  ░                                                ░ \n",
       "q_0: ────────────┤ X ├┤ Rz(θ[0]) ├──■───────────────░────────────────────────────────────────────────░─\n",
       "                 └─┬─┘└──────────┘  │               ░             ┌───┐┌──────────┐                  ░ \n",
       "q_1: ──────────────┼────────────────┼───────────────░─────────────┤ X ├┤ Rz(θ[3]) ├──■───────────────░─\n",
       "     ┌──────────┐  │  ┌──────────┐┌─┴─┐┌──────────┐ ░             └─┬─┘└──────────┘  │               ░ \n",
       "q_2: ┤ Rz(-π/2) ├──■──┤ Ry(θ[2]) ├┤ X ├┤ Ry(θ[2]) ├─░───────────────┼────────────────┼───────────────░─\n",
       "     └──────────┘     └──────────┘└───┘└──────────┘ ░ ┌──────────┐  │  ┌──────────┐┌─┴─┐┌──────────┐ ░ \n",
       "q_3: ───────────────────────────────────────────────░─┤ Rz(-π/2) ├──■──┤ Ry(θ[5]) ├┤ X ├┤ Ry(θ[5]) ├─░─\n",
       "                                                    ░ └──────────┘     └──────────┘└───┘└──────────┘ ░ </pre>"
      ],
      "text/plain": [
       "                 ┌───┐┌──────────┐                  ░                                                ░ \n",
       "q_0: ────────────┤ X ├┤ Rz(θ[0]) ├──■───────────────░────────────────────────────────────────────────░─\n",
       "                 └─┬─┘└──────────┘  │               ░             ┌───┐┌──────────┐                  ░ \n",
       "q_1: ──────────────┼────────────────┼───────────────░─────────────┤ X ├┤ Rz(θ[3]) ├──■───────────────░─\n",
       "     ┌──────────┐  │  ┌──────────┐┌─┴─┐┌──────────┐ ░             └─┬─┘└──────────┘  │               ░ \n",
       "q_2: ┤ Rz(-π/2) ├──■──┤ Ry(θ[2]) ├┤ X ├┤ Ry(θ[2]) ├─░───────────────┼────────────────┼───────────────░─\n",
       "     └──────────┘     └──────────┘└───┘└──────────┘ ░ ┌──────────┐  │  ┌──────────┐┌─┴─┐┌──────────┐ ░ \n",
       "q_3: ───────────────────────────────────────────────░─┤ Rz(-π/2) ├──■──┤ Ry(θ[5]) ├┤ X ├┤ Ry(θ[5]) ├─░─\n",
       "                                                    ░ └──────────┘     └──────────┘└───┘└──────────┘ ░ "
      ]
     },
     "execution_count": 49,
     "metadata": {},
     "output_type": "execute_result"
    }
   ],
   "source": [
    "def pool_layer(qc:QuantumCircuit()) -> QuantumCircuit():\n",
    "    half = int(qc.num_qubits/2)\n",
    "    for i in range(half):\n",
    "        qc.rz(-np.pi / 2, i+half)\n",
    "        qc.cx(i+half, i)\n",
    "        qc.rz(para_vec[3*i], i)\n",
    "        qc.ry(para_vec[(3*i)+half], i+half)\n",
    "        qc.cx(i, i+half)\n",
    "        qc.ry(para_vec[(3*i)+2], i+half)\n",
    "        qc.barrier()\n",
    "    qc_temp = qc\n",
    "    return qc_temp\n",
    "\n",
    "qc = QuantumCircuit(4)\n",
    "para_vec = ParameterVector(\"θ\", length=qc.num_qubits*3)\n",
    "pool_layer(qc)\n",
    "qc.draw(fold=130)"
   ]
  },
  {
   "cell_type": "code",
   "execution_count": null,
   "id": "c5d24f62-3b47-42af-a2b8-9f7b8b564085",
   "metadata": {},
   "outputs": [],
   "source": []
  }
 ],
 "metadata": {
  "kernelspec": {
   "display_name": "Python 3 (ipykernel)",
   "language": "python",
   "name": "python3"
  },
  "language_info": {
   "codemirror_mode": {
    "name": "ipython",
    "version": 3
   },
   "file_extension": ".py",
   "mimetype": "text/x-python",
   "name": "python",
   "nbconvert_exporter": "python",
   "pygments_lexer": "ipython3",
   "version": "3.11.8"
  }
 },
 "nbformat": 4,
 "nbformat_minor": 5
}

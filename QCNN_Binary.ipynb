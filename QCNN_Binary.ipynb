{
 "cells": [
  {
   "cell_type": "code",
   "execution_count": 20,
   "id": "3e970a8f-4b3f-4cda-be09-00f96099c3ac",
   "metadata": {},
   "outputs": [],
   "source": [
    "from qiskit import QuantumCircuit\n",
    "from qiskit.circuit import Parameter, ParameterVector\n",
    "from qiskit.circuit.library import ZFeatureMap\n",
    "\n",
    "from qiskit_machine_learning.neural_networks import EstimatorQNN\n",
    "from qiskit_machine_learning.algorithms.classifiers import NeuralNetworkClassifier\n",
    "from qiskit_algorithms.optimizers import COBYLA\n",
    "from qiskit.primitives import Estimator\n",
    "\n",
    "from sklearn.model_selection import train_test_split\n",
    "import numpy as np"
   ]
  },
  {
   "cell_type": "code",
   "execution_count": 2,
   "id": "e5aab317-bef0-4dad-9345-52d21fd865a3",
   "metadata": {},
   "outputs": [],
   "source": [
    "# Method to construct the Convolutional Layer for the QCNN\n",
    "def conv_layer(qc:QuantumCircuit(), para:ParameterVector, iter:int) -> QuantumCircuit():\n",
    "    start = 0 if qc.num_qubits == 2 else -1\n",
    "    iter = 3 if iter == 0 else iter\n",
    "    for i in range(start, qc.num_qubits-1):\n",
    "        qc.rz(-np.pi / 2, i+1)\n",
    "        qc.cx(i+1, i)\n",
    "        qc.rz(para[(3*i)+iter], i)\n",
    "        qc.ry(para[(3*i)+1+iter], i+1)\n",
    "        qc.cx(i, i+1)\n",
    "        qc.ry(para[(3*i)+2+iter], i+1)\n",
    "        qc.cx(i+1, i)\n",
    "        qc.rz(np.pi / 2, i)\n",
    "        qc.barrier()\n",
    "    if iter == 3:\n",
    "        iter = 0\n",
    "    if qc.num_qubits == 2:\n",
    "        iter += 3\n",
    "    else: \n",
    "        iter += (3*(qc.num_qubits)) \n",
    "    return qc, iter\n",
    "\n",
    "# Method to construct the Pooling Layer for the QCNN\n",
    "def pool_layer(qc:QuantumCircuit(), para:ParameterVector, iter:int) -> QuantumCircuit():\n",
    "    half = int(qc.num_qubits/2)\n",
    "    for i in range(half):\n",
    "        qc.rz(-np.pi / 2, i+half)\n",
    "        qc.cx(i+half, i)\n",
    "        qc.rz(para[(3*i)+iter], i)\n",
    "        qc.ry(para[(3*i)+1+iter], i+half)\n",
    "        qc.cx(i, i+half)\n",
    "        qc.ry(para[(3*i)+2+iter], i+half)\n",
    "        qc.barrier()\n",
    "    iter += (half*3)\n",
    "    return qc, iter\n",
    "\n",
    "# Method that builds the entire circuit and layers systematically\n",
    "def qcnn_circuit(num_qubits:int, num_outputs:int) -> QuantumCircuit():\n",
    "    qc = QuantumCircuit(num_qubits)\n",
    "    num_layers = np.log2(num_qubits) # Calculates number of convolutional/pooling layers\n",
    "    \n",
    "    feature_map = ZFeatureMap(num_qubits)  # Pulls in Qiskit's built in ZFeatureMap\n",
    "    qc.compose(feature_map, range(num_qubits), inplace=True) # Adds ZFeatureMap to circuit for initialization\n",
    "    \n",
    "    parameter_vec = ParameterVector(name=\"θ\", length=int(9*(2**num_layers))-12) # Calculates number of parameters needed\n",
    "   \n",
    "    iter = 0 # Tracks where in the Parameter Vector to put the next parameter\n",
    "    index = num_qubits # Divides itself in half at each layer\n",
    "    layer = 1 # Tracks the current layer being constructed\n",
    "    while index > int(num_outputs): # Adds 1 convolution layer and 1 pooling layer then iterates until the desired amount of outputs remain\n",
    "        conv_qc = QuantumCircuit(index)\n",
    "        pool_qc = QuantumCircuit(index)\n",
    "        \n",
    "        # Adds 1 convolutional layer to the circuit by converting the convolutional circuit to a gate\n",
    "        conv_qc, iter = conv_layer(conv_qc, parameter_vec, iter)\n",
    "        qc.compose(conv_qc.to_instruction(label=f'Convolution Layer {layer}'), range(int(num_qubits - index), num_qubits), inplace=True)\n",
    "        \n",
    "        # Adds 1 pooling layer to the circuit by converting the pooling circuit to a gate\n",
    "        pool_qc, iter = pool_layer(pool_qc, parameter_vec, iter)\n",
    "        qc.compose(pool_qc.to_instruction(label=f'Pooling Layer {layer}'), range(int(num_qubits - index), num_qubits), inplace=True)\n",
    "\n",
    "        # Handle tracker increment or decrement\n",
    "        index = int(index / 2)\n",
    "        layer += 1\n",
    "\n",
    "    # Constructs weight parameter by removing ZFeatureMap's parameters from the total\n",
    "    weight_params = qc.parameters - feature_map.parameters\n",
    "    return qc, feature_map.parameters, weight_params"
   ]
  },
  {
   "cell_type": "code",
   "execution_count": 4,
   "id": "b5b9a3c2-e494-4f79-a098-3d590d87c2d7",
   "metadata": {},
   "outputs": [],
   "source": [
    "# Declares the Quantum Convolutional Circuit and extracts the input and weigh parameters from the qcnn_circuit method\n",
    "qcnn, input_params, weight_params = qcnn_circuit(16, 1)\n",
    "\n",
    "# Constructs the neural network for the classifier\n",
    "qcnn_est = EstimatorQNN(circuit=qcnn.decompose(), input_params=input_params, weight_params=weight_params)\n",
    "\n",
    "# Declares Classifier\n",
    "classifier = NeuralNetworkClassifier(qcnn_est, optimizer=COBYLA(maxiter=1000))"
   ]
  },
  {
   "cell_type": "code",
   "execution_count": 13,
   "id": "2d3171eb-9893-4292-bd61-a6a9374cce66",
   "metadata": {},
   "outputs": [],
   "source": [
    "# Loading data\n",
    "data = np.genfromtxt(\"sonar.all-data\", delimiter=',', dtype=str)\n",
    "\n",
    "# Splitting the data into features and labels\n",
    "features = data[:, :-1].astype(float)  \n",
    "labels = data[:, -1]     \n",
    "\n",
    "features_list = [row[:16] for row in features]\n",
    "features_list = [np.array(row) for row in features_list]\n",
    "\n",
    "# Mapping mine to -1 and rock to +1\n",
    "labels_mapped = np.where(labels == 'M', -1, 1)\n",
    "\n",
    "# Split data into training and testing sets\n",
    "trainer, tester, trainer_ans, tester_ans = train_test_split(features_list, labels_mapped, test_size=0.25, random_state=246)\n",
    "\n",
    "x = np.asarray(trainer)\n",
    "y = np.asarray(trainer_ans)"
   ]
  },
  {
   "cell_type": "code",
   "execution_count": 21,
   "id": "eb143eb5-7601-4a44-af26-9efff3135556",
   "metadata": {},
   "outputs": [
    {
     "data": {
      "text/plain": [
       "'\\nclassifier = NeuralNetworkClassifier.load(\"mine_classifier.model\")\\n'"
      ]
     },
     "execution_count": 21,
     "metadata": {},
     "output_type": "execute_result"
    }
   ],
   "source": [
    "########### UNCOMMENT ONLY THE OPTION YOU ARE TRYING TO DO! ###########\n",
    "\n",
    "# Uncomment this section to create and save a new model\n",
    "'''\n",
    "classifier.fit(x, y)\n",
    "classifier.save(\"mine_classifier.model\")\n",
    "'''\n",
    " \n",
    "# Uncomment this section to load or warm start a model\n",
    "'''\n",
    "classifier = NeuralNetworkClassifier.load(\"mine_classifier.model\")\n",
    "'''"
   ]
  },
  {
   "cell_type": "code",
   "execution_count": 15,
   "id": "28ed8b45-e38d-4479-8773-d3d5263bd8c5",
   "metadata": {},
   "outputs": [
    {
     "name": "stdout",
     "output_type": "stream",
     "text": [
      "Accuracy from the test data : 61.54%\n"
     ]
    }
   ],
   "source": [
    "y_predict = classifier.predict(tester)\n",
    "x = np.asarray(tester)\n",
    "y = np.asarray(tester_ans)\n",
    "\n",
    "print(f\"Accuracy from the test data : {np.round(100 * classifier.score(x, y), 2)}%\")"
   ]
  },
  {
   "cell_type": "code",
   "execution_count": null,
   "id": "a5c4621e-4d91-4429-b3fe-c31c7262772c",
   "metadata": {},
   "outputs": [],
   "source": []
  }
 ],
 "metadata": {
  "kernelspec": {
   "display_name": "Python 3 (ipykernel)",
   "language": "python",
   "name": "python3"
  },
  "language_info": {
   "codemirror_mode": {
    "name": "ipython",
    "version": 3
   },
   "file_extension": ".py",
   "mimetype": "text/x-python",
   "name": "python",
   "nbconvert_exporter": "python",
   "pygments_lexer": "ipython3",
   "version": "3.11.8"
  }
 },
 "nbformat": 4,
 "nbformat_minor": 5
}

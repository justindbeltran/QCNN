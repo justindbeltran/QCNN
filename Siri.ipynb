{
 "cells": [
  {
   "cell_type": "code",
   "execution_count": 9,
   "id": "ec7dab54-973c-4da5-88f2-4502fc0f7836",
   "metadata": {},
   "outputs": [],
   "source": [
    "from qiskit import QuantumCircuit, QuantumRegister, ClassicalRegister, transpile\n",
    "from qiskit.circuit import Parameter, ParameterVector\n",
    "from qiskit.circuit.library import ZFeatureMap, ZZFeatureMap\n",
    "from qiskit.visualization import plot_histogram, plot_distribution\n",
    "from qiskit.quantum_info import SparsePauliOp\n",
    "\n",
    "from qiskit_machine_learning.neural_networks import EstimatorQNN\n",
    "from qiskit_machine_learning.algorithms.classifiers import NeuralNetworkClassifier\n",
    "from qiskit_algorithms.optimizers import COBYLA\n",
    "from qiskit_algorithms.utils import algorithm_globals\n",
    "from qiskit.primitives import Sampler, Estimator\n",
    "\n",
    "from sklearn.model_selection import train_test_split\n",
    "import numpy as np\n",
    "import matplotlib.pyplot as plt"
   ]
  },
  {
   "cell_type": "code",
   "execution_count": 10,
   "id": "ca7aab65-2fd8-47be-9585-0dab01077bb0",
   "metadata": {},
   "outputs": [],
   "source": [
    "# Method to construct the Convolutional Layer for the QCNN\n",
    "def conv_layer(qc:QuantumCircuit(), para:ParameterVector, iter:int) -> QuantumCircuit():\n",
    "    start = 0 if qc.num_qubits == 2 else -1\n",
    "    iter = 3 if iter == 0 else iter\n",
    "    for i in range(start, qc.num_qubits-1):\n",
    "        qc.rz(-np.pi / 2, i+1)\n",
    "        qc.cx(i+1, i)\n",
    "        qc.rz(para[(3*i)+iter], i)\n",
    "        qc.ry(para[(3*i)+1+iter], i+1)\n",
    "        qc.cx(i, i+1)\n",
    "        qc.ry(para[(3*i)+2+iter], i+1)\n",
    "        qc.cx(i+1, i)\n",
    "        qc.rz(np.pi / 2, i)\n",
    "        qc.barrier()\n",
    "    if iter == 3:\n",
    "        iter = 0\n",
    "    if qc.num_qubits == 2:\n",
    "        iter += 3\n",
    "    else: \n",
    "        iter += (3*(qc.num_qubits)) \n",
    "    return qc, iter\n",
    "\n",
    "# Method to construct the Pooling Layer for the QCNN\n",
    "def pool_layer(qc:QuantumCircuit(), para:ParameterVector, iter:int) -> QuantumCircuit():\n",
    "    half = int(qc.num_qubits/2)\n",
    "    for i in range(half):\n",
    "        qc.rz(-np.pi / 2, i+half)\n",
    "        qc.cx(i+half, i)\n",
    "        qc.rz(para[(3*i)+iter], i)\n",
    "        qc.ry(para[(3*i)+1+iter], i+half)\n",
    "        qc.cx(i, i+half)\n",
    "        qc.ry(para[(3*i)+2+iter], i+half)\n",
    "        qc.barrier()\n",
    "    iter += (half*3)\n",
    "    return qc, iter\n",
    "\n",
    "# Method that builds the entire circuit and layers systematically\n",
    "def qcnn_circuit(num_qubits:int, num_outputs:int) -> QuantumCircuit():\n",
    "    qc = QuantumCircuit(num_qubits)\n",
    "    num_layers = np.log2(num_qubits) # Calculates number of convolutional/pooling layers\n",
    "    \n",
    "    feature_map = ZFeatureMap(num_qubits)  # Pulls in Qiskit's built in ZFeatureMap\n",
    "    qc.compose(feature_map, range(num_qubits), inplace=True) # Adds ZFeatureMap to circuit for initialization\n",
    "    \n",
    "    parameter_vec = ParameterVector(name=\"θ\", length=int(9*(2**num_layers))-12) # Calculates number of parameters needed\n",
    "   \n",
    "    iter = 0 # Tracks where in the Parameter Vector to put the next parameter\n",
    "    index = num_qubits # Divides itself in half at each layer\n",
    "    layer = 1 # Tracks the current layer being constructed\n",
    "    while index > int(num_outputs): # Adds 1 convolution layer and 1 pooling layer then iterates until the desired amount of outputs remain\n",
    "        conv_qc = QuantumCircuit(index)\n",
    "        pool_qc = QuantumCircuit(index)\n",
    "        \n",
    "        # Adds 1 convolutional layer to the circuit by converting the convolutional circuit to a gate\n",
    "        conv_qc, iter = conv_layer(conv_qc, parameter_vec, iter)\n",
    "        qc.compose(conv_qc.to_instruction(label=f'Convolution Layer {layer}'), range(int(num_qubits - index), num_qubits), inplace=True)\n",
    "        \n",
    "        # Adds 1 pooling layer to the circuit by converting the pooling circuit to a gate\n",
    "        pool_qc, iter = pool_layer(pool_qc, parameter_vec, iter)\n",
    "        qc.compose(pool_qc.to_instruction(label=f'Pooling Layer {layer}'), range(int(num_qubits - index), num_qubits), inplace=True)\n",
    "\n",
    "        # Handle tracker increment or decrement\n",
    "        index = int(index / 2)\n",
    "        layer += 1\n",
    "\n",
    "    # Constructs weight parameter by removing ZFeatureMap's parameters from the total\n",
    "    weight_params = qc.parameters - feature_map.parameters\n",
    "    return qc, feature_map.parameters, weight_params"
   ]
  },
  {
   "cell_type": "code",
   "execution_count": 11,
   "id": "4f7fb5e2-4563-4c75-b220-479fb4a53f72",
   "metadata": {},
   "outputs": [],
   "source": [
    "\"\"\" PERSONAL NOTES\n",
    "2 qubits = 6 parameters\n",
    "4 qubits = 24 parameters\n",
    "8 qubtes = 60 parameters\n",
    "observables=SparsePauliOp.from_list([(\"Z\" + \"I\" * 7, 1)])\n",
    "\"\"\"\n",
    "\n",
    "# Declares the Quantum Convolutional Circuit and extracts the input and weigh parameters from the qcnn_circuit method\n",
    "qcnn, input_params, weight_params = qcnn_circuit(32, 1)\n",
    "\n",
    "qcnn_est = EstimatorQNN(circuit=qcnn.decompose(), input_params=input_params, weight_params=weight_params)\n",
    "#qcnn.draw(\"mpl\", style=\"clifford\")"
   ]
  },
  {
   "cell_type": "code",
   "execution_count": 12,
   "id": "237a592e-04d6-4985-877f-579605a6b991",
   "metadata": {},
   "outputs": [],
   "source": [
    "# To plot the progress of the circuits learning\n",
    "def callback_graph(weights, obj_func_eval):\n",
    "    clear_output(wait=True)\n",
    "    objective_func_vals.append(obj_func_eval)\n",
    "    plt.title(\"Objective function value against iteration\")\n",
    "    plt.xlabel(\"Iteration\")\n",
    "    plt.ylabel(\"Objective function value\")\n",
    "    plt.plot(range(len(objective_func_vals)), objective_func_vals)\n",
    "    plt.show()"
   ]
  },
  {
   "cell_type": "code",
   "execution_count": 13,
   "id": "6df3d634-120f-436b-948b-2f9ecd1c17bd",
   "metadata": {},
   "outputs": [],
   "source": [
    "# Declares Classifier\n",
    "classifier = NeuralNetworkClassifier(\n",
    "    qcnn_est,\n",
    "    optimizer=COBYLA(maxiter=500),  # Set max iterations here\n",
    "    #callback=callback_graph,\n",
    "    #initial_point=initial_point,\n",
    ")\n"
   ]
  },
  {
   "cell_type": "markdown",
   "id": "b09c0162-8db8-4ce8-bbd0-731e9d9d228b",
   "metadata": {},
   "source": [
    "** importing training and "
   ]
  },
  {
   "cell_type": "code",
   "execution_count": 14,
   "id": "17b84b98-d570-4722-9521-3993d1e3f8ba",
   "metadata": {},
   "outputs": [],
   "source": [
    "from zipfile import ZipFile"
   ]
  },
  {
   "cell_type": "code",
   "execution_count": 15,
   "id": "9b0eff93-8f83-4f38-9d3c-6448e6460191",
   "metadata": {},
   "outputs": [
    {
     "name": "stdout",
     "output_type": "stream",
     "text": [
      "File Name                                             Modified             Size\n",
      "sonar.all-data                                 2023-12-02 19:14:14        87776\n",
      "sonar.mines                                    2023-12-02 19:14:14        49217\n",
      "sonar.rocks                                    2023-12-02 19:14:14        43052\n",
      "Index                                          2023-12-02 19:14:14          178\n",
      "sonar.names                                    2023-12-02 19:14:14         5872\n"
     ]
    }
   ],
   "source": [
    "# specifying the zip file name \n",
    "file_name = \"sonar_data.zip\"\n",
    "  \n",
    "# opening the zip file in READ mode \n",
    "with ZipFile(file_name, 'r') as zip: \n",
    "    # printing all the contents of the zip file \n",
    "    zip.printdir() \n",
    "  \n",
    "    # extracting all the files \n",
    "    zip.extractall() "
   ]
  },
  {
   "cell_type": "code",
   "execution_count": 17,
   "id": "9232129c-b183-48ad-bca8-c86feba39ce9",
   "metadata": {},
   "outputs": [
    {
     "name": "stdout",
     "output_type": "stream",
     "text": [
      "Features shape: (208, 64)\n",
      "Labels shape: (208,)\n"
     ]
    }
   ],
   "source": [
    "#loading data\n",
    "data = np.genfromtxt(\"sonar.all-data\", delimiter=',', dtype=str)\n",
    "\n",
    "#splitting the data to features and labels\n",
    "features = data[:, :-1].astype(float)  \n",
    "labels = data[:, -1]     \n",
    "\n",
    "num_rows = features.shape[0]  \n",
    "\n",
    "zeros_columns = np.zeros((num_rows, 4))\n",
    "\n",
    "features_with_zeros = np.concatenate((features, zeros_columns), axis=1)\n",
    "\n",
    "print(\"Features shape:\", features_with_zeros.shape)\n",
    "print(\"Labels shape:\", labels.shape)\n",
    "\n",
    "features_with_zeros_list = [np.array(row) for row in features_with_zeros]\n",
    "features_with_zeros_list = [row[:32] for row in features_with_zeros_list]\n",
    "\n",
    "\n",
    "#mapping mine to -1 and rock to +1\n",
    "labels_mapped = np.where(labels == 'M', -1, 1)"
   ]
  },
  {
   "cell_type": "code",
   "execution_count": 18,
   "id": "f7160d80-f9be-4a57-9b6a-9e36fa2ad6bd",
   "metadata": {},
   "outputs": [],
   "source": [
    "trainer, tester, trainer_ans, tester_ans = train_test_split(features_with_zeros_list, labels_mapped, test_size=0.25, random_state=246)"
   ]
  },
  {
   "cell_type": "code",
   "execution_count": 19,
   "id": "3dee1a0e-1383-4e88-9ce3-61fad672b624",
   "metadata": {},
   "outputs": [
    {
     "name": "stdout",
     "output_type": "stream",
     "text": [
      "[[0.02   0.0371 0.0428 ... 0.3857 0.1307 0.2604]\n",
      " [0.0047 0.0059 0.008  ... 0.9151 0.8828 0.8086]\n",
      " [0.0378 0.0318 0.0423 ... 0.4831 0.4729 0.3318]\n",
      " ...\n",
      " [0.0968 0.0821 0.0629 ... 0.5213 0.2316 0.3335]\n",
      " [0.0107 0.0453 0.0289 ... 1.     0.9308 0.8478]\n",
      " [0.0163 0.0198 0.0202 ... 0.7405 0.8069 0.842 ]]\n",
      "[ 1 -1  1  1  1 -1 -1 -1 -1 -1 -1  1  1 -1  1  1  1 -1 -1 -1  1 -1  1 -1\n",
      "  1 -1  1 -1  1 -1  1  1  1  1 -1  1  1  1 -1 -1  1 -1 -1 -1 -1 -1 -1 -1\n",
      " -1  1  1  1 -1 -1  1  1 -1 -1  1 -1  1 -1  1 -1  1  1  1 -1 -1  1 -1 -1\n",
      "  1  1 -1 -1 -1  1 -1  1  1  1  1  1  1  1  1  1 -1 -1 -1 -1 -1  1  1  1\n",
      "  1 -1 -1 -1 -1 -1 -1  1 -1 -1 -1  1 -1 -1  1 -1  1 -1 -1  1 -1 -1  1 -1\n",
      "  1  1  1 -1  1 -1  1  1 -1 -1 -1 -1  1  1 -1 -1  1 -1  1  1 -1  1  1 -1\n",
      " -1 -1 -1 -1  1 -1  1  1 -1 -1 -1 -1]\n"
     ]
    }
   ],
   "source": [
    "x2 = np.asarray(trainer)\n",
    "y2 = np.asarray(trainer_ans)\n",
    "\n",
    "print(x2)\n",
    "print(y2)\n",
    "\n",
    "objective_func_vals2 = []\n",
    "\n",
    "plt.rcParams[\"figure.figsize\"] = (12, 6)"
   ]
  },
  {
   "cell_type": "code",
   "execution_count": null,
   "id": "83bcbb00-53b2-4fac-b5dd-1f3885aecfb9",
   "metadata": {},
   "outputs": [],
   "source": [
    "classifier.fit(x2, y2)"
   ]
  },
  {
   "cell_type": "code",
   "execution_count": null,
   "id": "d4d8f761-3441-4629-a354-6aec15b7cf39",
   "metadata": {},
   "outputs": [],
   "source": []
  }
 ],
 "metadata": {
  "kernelspec": {
   "display_name": "Python 3 (ipykernel)",
   "language": "python",
   "name": "python3"
  },
  "language_info": {
   "codemirror_mode": {
    "name": "ipython",
    "version": 3
   },
   "file_extension": ".py",
   "mimetype": "text/x-python",
   "name": "python",
   "nbconvert_exporter": "python",
   "pygments_lexer": "ipython3",
   "version": "3.12.2"
  }
 },
 "nbformat": 4,
 "nbformat_minor": 5
}

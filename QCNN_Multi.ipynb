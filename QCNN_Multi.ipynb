{
 "cells": [
  {
   "cell_type": "code",
   "execution_count": 14,
   "id": "b56e06c8-70f3-49e0-b479-7f62991b9772",
   "metadata": {},
   "outputs": [],
   "source": [
    "from qiskit import QuantumCircuit\n",
    "from qiskit.circuit import Parameter, ParameterVector\n",
    "from qiskit.circuit.library import ZFeatureMap\n",
    "from qiskit.visualization import plot_histogram, plot_distribution\n",
    "\n",
    "from qiskit_machine_learning.neural_networks import SamplerQNN\n",
    "from qiskit_machine_learning.algorithms.classifiers import NeuralNetworkClassifier\n",
    "from qiskit_algorithms.optimizers import COBYLA\n",
    "from qiskit.primitives import Sampler\n",
    "\n",
    "from sklearn.model_selection import train_test_split\n",
    "import numpy as np\n",
    "import matplotlib.pyplot as plt"
   ]
  },
  {
   "cell_type": "code",
   "execution_count": 15,
   "id": "70ef6431-b73c-4778-aab7-e6fa74bb3955",
   "metadata": {},
   "outputs": [],
   "source": [
    "# Method to construct the Convolutional Layer for the QCNN\n",
    "def conv_layer(qc:QuantumCircuit(), para:ParameterVector, iter:int) -> QuantumCircuit():\n",
    "    start = 0 if qc.num_qubits == 2 else -1\n",
    "    iter = 3 if iter == 0 else iter\n",
    "    for i in range(start, qc.num_qubits-1):\n",
    "        qc.rz(-np.pi / 2, i+1)\n",
    "        qc.cx(i+1, i)\n",
    "        qc.rz(para[(3*i)+iter], i)\n",
    "        qc.ry(para[(3*i)+1+iter], i+1)\n",
    "        qc.cx(i, i+1)\n",
    "        qc.ry(para[(3*i)+2+iter], i+1)\n",
    "        qc.cx(i+1, i)\n",
    "        qc.rz(np.pi / 2, i)\n",
    "        qc.barrier()\n",
    "    if iter == 3:\n",
    "        iter = 0\n",
    "    if qc.num_qubits == 2:\n",
    "        iter += 3\n",
    "    else: \n",
    "        iter += (3*(qc.num_qubits)) \n",
    "    return qc, iter\n",
    "\n",
    "# Method to construct the Pooling Layer for the QCNN\n",
    "def pool_layer(qc:QuantumCircuit(), para:ParameterVector, iter:int) -> QuantumCircuit():\n",
    "    half = int(qc.num_qubits/2)\n",
    "    for i in range(half):\n",
    "        qc.rz(-np.pi / 2, i+half)\n",
    "        qc.cx(i+half, i)\n",
    "        qc.rz(para[(3*i)+iter], i)\n",
    "        qc.ry(para[(3*i)+1+iter], i+half)\n",
    "        qc.cx(i, i+half)\n",
    "        qc.ry(para[(3*i)+2+iter], i+half)\n",
    "        qc.barrier()\n",
    "    iter += (half*3)\n",
    "    return qc, iter\n",
    "\n",
    "# Method that builds the entire circuit and layers systematically\n",
    "def qcnn_circuit(num_qubits:int, num_outputs:int) -> QuantumCircuit():\n",
    "    qc = QuantumCircuit(num_qubits)\n",
    "    num_outputs *= 2\n",
    "    num_layers = np.log2(num_qubits) # Calculates number of convolutional/pooling layers\n",
    "\n",
    "    feature_map = ZFeatureMap(num_qubits)  # Pulls in Qiskit's built in ZZFeatureMap\n",
    "    qc.compose(feature_map, range(num_qubits), inplace=True) # Adds ZFeatureMap to circuit for initialization\n",
    "    \n",
    "    parameter_vec = ParameterVector(name=\"θ\", length=int(9*(2**num_layers))-12) # Calculates number of parameters needed\n",
    "   \n",
    "    iter = 0 # Tracks where in the Parameter Vector to put the next parameter\n",
    "    index = num_qubits # Divides itself in half at each layer\n",
    "    layer = 1 # Tracks the current layer being constructed\n",
    "    while index > int(num_outputs): # Adds 1 convolution layer and 1 pooling layer then iterates until the desired amount of outputs remain\n",
    "        conv_qc = QuantumCircuit(index)\n",
    "        pool_qc = QuantumCircuit(index)\n",
    "        \n",
    "        # Adds 1 convolutional layer to the circuit by converting the convolutional circuit to a gate\n",
    "        conv_qc, iter = conv_layer(conv_qc, parameter_vec, iter)\n",
    "        qc.compose(conv_qc.to_instruction(label=f'Convolution Layer {layer}'), range(int(num_qubits - index), num_qubits), inplace=True)\n",
    "        \n",
    "        # Adds 1 pooling layer to the circuit by converting the pooling circuit to a gate\n",
    "        pool_qc, iter = pool_layer(pool_qc, parameter_vec, iter)\n",
    "        qc.compose(pool_qc.to_instruction(label=f'Pooling Layer {layer}'), range(int(num_qubits - index), num_qubits), inplace=True)\n",
    "\n",
    "        # Handle tracker increment or decrement\n",
    "        index = int(index / 2)\n",
    "        layer += 1\n",
    "\n",
    "    # Constructs weight parameter by removing ZFeatureMap's parameters from the total\n",
    "    weight_params = qc.parameters - feature_map.parameters\n",
    "    return qc, feature_map.parameters, weight_params\n",
    "\n",
    "# Interpreting function for the classifier\n",
    "def func(x):\n",
    "    n = 2 # n must match out_qubits in cell below\n",
    "    return x % 2**n "
   ]
  },
  {
   "cell_type": "code",
   "execution_count": 16,
   "id": "f95d47b5-730e-437a-8a76-c95d87a3e716",
   "metadata": {},
   "outputs": [],
   "source": [
    "# Loading data\n",
    "data = np.genfromtxt(\"seeds_dataset.txt\", dtype=str)\n",
    "\n",
    "# Splitting the data to features and labels\n",
    "features = data[:, :-1].astype(float)  \n",
    "labels = data[:, -1]\n",
    "\n",
    "features = np.hstack((features, np.zeros((features.shape[0], 1))))\n",
    "features_list = [np.array(row) for row in features]\n",
    "\n",
    "# Split data into test and training sets\n",
    "trainer, tester, trainer_ans, tester_ans = train_test_split(features_list, labels, test_size=0.25, random_state=246)\n",
    "\n",
    "x = np.asarray(trainer)\n",
    "y = np.asarray(trainer_ans)"
   ]
  },
  {
   "cell_type": "code",
   "execution_count": 17,
   "id": "2f2d74ef-f409-4d70-af21-09e3957ada0d",
   "metadata": {},
   "outputs": [],
   "source": [
    "# Declares the Quantum Convolutional Circuit and extracts the input and weigh parameters from the qcnn_circuit method\n",
    "out_qubits = 2 # If using more than 4 output types adjust '2' to 2^n types\n",
    "qcnn, input_params, weight_params = qcnn_circuit(len(features[0]), out_qubits) \n",
    "\n",
    "# Constructs the neural network and parameters for the classifier\n",
    "qcnn_sam = SamplerQNN(circuit=qcnn.decompose(), input_params=input_params, weight_params=weight_params,\n",
    "                       interpret=func, output_shape=(2**out_qubits))\n",
    "\n",
    "# Declares QCNN Classifier\n",
    "classifier = NeuralNetworkClassifier(qcnn_sam, optimizer=COBYLA(maxiter=100))"
   ]
  },
  {
   "cell_type": "code",
   "execution_count": 20,
   "id": "4517962f-6d05-4190-a321-065879e8a981",
   "metadata": {},
   "outputs": [
    {
     "data": {
      "text/plain": [
       "'\\nclassifier = NeuralNetworkClassifier.load(\"seed_classifier_8m1000.model\")\\n'"
      ]
     },
     "execution_count": 20,
     "metadata": {},
     "output_type": "execute_result"
    }
   ],
   "source": [
    "########### UNCOMMENT ONLY THE OPTION YOU ARE TRYING TO DO! ###########\n",
    "\n",
    "# Uncomment this section to create and save a new model\n",
    "'''\n",
    "classifier.fit(x, y)\n",
    "classifier.save(\"seed_classifier.model\")\n",
    "'''\n",
    " \n",
    "# Uncomment this section to load or warm start a model\n",
    "'''\n",
    "classifier = NeuralNetworkClassifier.load(\"seed_classifier_8m1000.model\")\n",
    "'''"
   ]
  },
  {
   "cell_type": "code",
   "execution_count": 19,
   "id": "4d551c6c-4b72-4d7b-9fb0-478d754b889f",
   "metadata": {},
   "outputs": [
    {
     "name": "stdout",
     "output_type": "stream",
     "text": [
      "Accuracy from the test data : 58.49%\n"
     ]
    }
   ],
   "source": [
    "y_predict = classifier.predict(tester)\n",
    "x = np.asarray(tester)\n",
    "y = np.asarray(tester_ans)\n",
    "\n",
    "print(f\"Accuracy from the test data : {np.round(100 * classifier.score(x, y), 2)}%\")"
   ]
  },
  {
   "cell_type": "code",
   "execution_count": null,
   "id": "2a4f0973-29e2-4a30-acca-d00f0287b0d8",
   "metadata": {},
   "outputs": [],
   "source": []
  }
 ],
 "metadata": {
  "kernelspec": {
   "display_name": "Python 3 (ipykernel)",
   "language": "python",
   "name": "python3"
  },
  "language_info": {
   "codemirror_mode": {
    "name": "ipython",
    "version": 3
   },
   "file_extension": ".py",
   "mimetype": "text/x-python",
   "name": "python",
   "nbconvert_exporter": "python",
   "pygments_lexer": "ipython3",
   "version": "3.11.8"
  }
 },
 "nbformat": 4,
 "nbformat_minor": 5
}

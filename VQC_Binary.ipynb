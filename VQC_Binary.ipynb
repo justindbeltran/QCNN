{
 "cells": [
  {
   "cell_type": "code",
   "execution_count": 1,
   "id": "20592186-5d0d-4cac-979d-ee4913d1e86d",
   "metadata": {},
   "outputs": [],
   "source": [
    "from qiskit import QuantumCircuit\n",
    "from qiskit.circuit import Parameter, ParameterVector\n",
    "from qiskit.circuit.library import EfficientSU2, ZZFeatureMap\n",
    "\n",
    "from qiskit_machine_learning.algorithms.classifiers import VQC\n",
    "from qiskit_algorithms.optimizers import COBYLA\n",
    "\n",
    "from sklearn.model_selection import train_test_split\n",
    "import numpy as np"
   ]
  },
  {
   "cell_type": "code",
   "execution_count": 6,
   "id": "edd449ab-c4c9-483e-8d0d-490909cb798e",
   "metadata": {},
   "outputs": [],
   "source": [
    "# Modified settings for VQC to get better performance seen in Homework 10\n",
    "def const_vqc(num_qubits:int):\n",
    "    feature_map = ZZFeatureMap(num_qubits, reps=2)\n",
    "    ansatz = EfficientSU2(num_qubits=num_qubits, reps=2, entanglement=\"full\")\n",
    "    return VQC(feature_map=feature_map, ansatz=ansatz, optimizer=COBYLA(maxiter=1000))\n",
    "                               \n",
    "classifier = const_vqc(16)"
   ]
  },
  {
   "cell_type": "code",
   "execution_count": 7,
   "id": "43a5b474-11f1-4c37-b827-4b5a4480c6e9",
   "metadata": {},
   "outputs": [],
   "source": [
    "# Loading data\n",
    "data = np.genfromtxt(\"sonar.all-data\", delimiter=',', dtype=str)\n",
    "\n",
    "# Splitting the data into features and labels\n",
    "features = data[:, :-1].astype(float)  \n",
    "labels = data[:, -1]     \n",
    "\n",
    "features_list = [row[:16] for row in features]\n",
    "features_list = [np.array(row) for row in features_list]\n",
    "\n",
    "# Mapping mine to -1 and rock to +1\n",
    "labels_mapped = np.where(labels == 'M', -1, 1)\n",
    "\n",
    "# Split data into training and testing sets\n",
    "trainer, tester, trainer_ans, tester_ans = train_test_split(features_list, labels_mapped, test_size=0.25, random_state=246)\n",
    "\n",
    "x = np.asarray(trainer)\n",
    "y = np.asarray(trainer_ans)\n",
    "\n",
    "# Started running 15:38"
   ]
  },
  {
   "cell_type": "code",
   "execution_count": null,
   "id": "ba9e16a4-e86b-42b4-90a4-609da8f9b196",
   "metadata": {},
   "outputs": [],
   "source": [
    "########### UNCOMMENT ONLY THE OPTION YOU ARE TRYING TO DO! ###########\n",
    "\n",
    "# Uncomment this section to create and save a new model\n",
    "\n",
    "classifier.fit(x, y)\n",
    "classifier.save(\"mine_classifier_vqc.model\")\n",
    "\n",
    " \n",
    "# Uncomment this section to load or warm start a model\n",
    "'''\n",
    "classifier = NeuralNetworkClassifier.load(\"mine_classifier.model\")\n",
    "'''"
   ]
  },
  {
   "cell_type": "code",
   "execution_count": null,
   "id": "07ac8b00-6623-4c09-a7b9-63d0ea5fb5c0",
   "metadata": {},
   "outputs": [],
   "source": [
    "y_predict = classifier.predict(tester)\n",
    "x = np.asarray(tester)\n",
    "y = np.asarray(tester_ans)\n",
    "\n",
    "print(f\"Accuracy from the test data : {np.round(100 * classifier.score(x, y), 2)}%\")"
   ]
  },
  {
   "cell_type": "code",
   "execution_count": null,
   "id": "98df1491-d631-4360-b7e0-c31dea0c1fa9",
   "metadata": {},
   "outputs": [],
   "source": []
  }
 ],
 "metadata": {
  "kernelspec": {
   "display_name": "Python 3 (ipykernel)",
   "language": "python",
   "name": "python3"
  },
  "language_info": {
   "codemirror_mode": {
    "name": "ipython",
    "version": 3
   },
   "file_extension": ".py",
   "mimetype": "text/x-python",
   "name": "python",
   "nbconvert_exporter": "python",
   "pygments_lexer": "ipython3",
   "version": "3.11.8"
  }
 },
 "nbformat": 4,
 "nbformat_minor": 5
}
